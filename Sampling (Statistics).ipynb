{
 "cells": [
  {
   "cell_type": "code",
   "execution_count": 82,
   "id": "8a15b233",
   "metadata": {},
   "outputs": [],
   "source": [
    "import warnings\n",
    "warnings.filterwarnings('ignore')\n",
    "import pandas as pd\n",
    "import random"
   ]
  },
  {
   "cell_type": "markdown",
   "id": "9396e268",
   "metadata": {},
   "source": [
    "# Reading Data"
   ]
  },
  {
   "cell_type": "code",
   "execution_count": 113,
   "id": "65e59ab1",
   "metadata": {},
   "outputs": [
    {
     "data": {
      "text/html": [
       "<div>\n",
       "<style scoped>\n",
       "    .dataframe tbody tr th:only-of-type {\n",
       "        vertical-align: middle;\n",
       "    }\n",
       "\n",
       "    .dataframe tbody tr th {\n",
       "        vertical-align: top;\n",
       "    }\n",
       "\n",
       "    .dataframe thead th {\n",
       "        text-align: right;\n",
       "    }\n",
       "</style>\n",
       "<table border=\"1\" class=\"dataframe\">\n",
       "  <thead>\n",
       "    <tr style=\"text-align: right;\">\n",
       "      <th></th>\n",
       "      <th>model</th>\n",
       "      <th>year</th>\n",
       "      <th>price</th>\n",
       "      <th>transmission</th>\n",
       "      <th>mileage</th>\n",
       "      <th>fuelType</th>\n",
       "      <th>tax</th>\n",
       "      <th>mpg</th>\n",
       "      <th>engineSize</th>\n",
       "    </tr>\n",
       "  </thead>\n",
       "  <tbody>\n",
       "    <tr>\n",
       "      <th>0</th>\n",
       "      <td>5 Series</td>\n",
       "      <td>2014</td>\n",
       "      <td>11200</td>\n",
       "      <td>Automatic</td>\n",
       "      <td>67068</td>\n",
       "      <td>Diesel</td>\n",
       "      <td>125</td>\n",
       "      <td>57.6</td>\n",
       "      <td>2.0</td>\n",
       "    </tr>\n",
       "    <tr>\n",
       "      <th>1</th>\n",
       "      <td>6 Series</td>\n",
       "      <td>2018</td>\n",
       "      <td>27000</td>\n",
       "      <td>Automatic</td>\n",
       "      <td>14827</td>\n",
       "      <td>Petrol</td>\n",
       "      <td>145</td>\n",
       "      <td>42.8</td>\n",
       "      <td>2.0</td>\n",
       "    </tr>\n",
       "    <tr>\n",
       "      <th>2</th>\n",
       "      <td>5 Series</td>\n",
       "      <td>2016</td>\n",
       "      <td>16000</td>\n",
       "      <td>Automatic</td>\n",
       "      <td>62794</td>\n",
       "      <td>Diesel</td>\n",
       "      <td>160</td>\n",
       "      <td>51.4</td>\n",
       "      <td>3.0</td>\n",
       "    </tr>\n",
       "    <tr>\n",
       "      <th>3</th>\n",
       "      <td>1 Series</td>\n",
       "      <td>2017</td>\n",
       "      <td>12750</td>\n",
       "      <td>Automatic</td>\n",
       "      <td>26676</td>\n",
       "      <td>Diesel</td>\n",
       "      <td>145</td>\n",
       "      <td>72.4</td>\n",
       "      <td>1.5</td>\n",
       "    </tr>\n",
       "    <tr>\n",
       "      <th>4</th>\n",
       "      <td>7 Series</td>\n",
       "      <td>2014</td>\n",
       "      <td>14500</td>\n",
       "      <td>Automatic</td>\n",
       "      <td>39554</td>\n",
       "      <td>Diesel</td>\n",
       "      <td>160</td>\n",
       "      <td>50.4</td>\n",
       "      <td>3.0</td>\n",
       "    </tr>\n",
       "  </tbody>\n",
       "</table>\n",
       "</div>"
      ],
      "text/plain": [
       "       model  year  price transmission  mileage fuelType  tax   mpg  \\\n",
       "0   5 Series  2014  11200    Automatic    67068   Diesel  125  57.6   \n",
       "1   6 Series  2018  27000    Automatic    14827   Petrol  145  42.8   \n",
       "2   5 Series  2016  16000    Automatic    62794   Diesel  160  51.4   \n",
       "3   1 Series  2017  12750    Automatic    26676   Diesel  145  72.4   \n",
       "4   7 Series  2014  14500    Automatic    39554   Diesel  160  50.4   \n",
       "\n",
       "   engineSize  \n",
       "0         2.0  \n",
       "1         2.0  \n",
       "2         3.0  \n",
       "3         1.5  \n",
       "4         3.0  "
      ]
     },
     "execution_count": 113,
     "metadata": {},
     "output_type": "execute_result"
    }
   ],
   "source": [
    "main_data = pd.read_csv(r'I:\\Python\\dataSet\\ml\\cars\\bmw.csv')\n",
    "data = main_data.copy()\n",
    "data.head(5)"
   ]
  },
  {
   "cell_type": "markdown",
   "id": "f6e7b089",
   "metadata": {},
   "source": [
    "# Simple Random Sampling"
   ]
  },
  {
   "cell_type": "code",
   "execution_count": 156,
   "id": "7b39526a",
   "metadata": {},
   "outputs": [
    {
     "data": {
      "text/html": [
       "<div>\n",
       "<style scoped>\n",
       "    .dataframe tbody tr th:only-of-type {\n",
       "        vertical-align: middle;\n",
       "    }\n",
       "\n",
       "    .dataframe tbody tr th {\n",
       "        vertical-align: top;\n",
       "    }\n",
       "\n",
       "    .dataframe thead th {\n",
       "        text-align: right;\n",
       "    }\n",
       "</style>\n",
       "<table border=\"1\" class=\"dataframe\">\n",
       "  <thead>\n",
       "    <tr style=\"text-align: right;\">\n",
       "      <th></th>\n",
       "      <th>model</th>\n",
       "      <th>year</th>\n",
       "      <th>price</th>\n",
       "      <th>transmission</th>\n",
       "      <th>mileage</th>\n",
       "      <th>fuelType</th>\n",
       "      <th>tax</th>\n",
       "      <th>mpg</th>\n",
       "      <th>engineSize</th>\n",
       "    </tr>\n",
       "  </thead>\n",
       "  <tbody>\n",
       "    <tr>\n",
       "      <th>7801</th>\n",
       "      <td>5 Series</td>\n",
       "      <td>2019</td>\n",
       "      <td>30850</td>\n",
       "      <td>Automatic</td>\n",
       "      <td>6000</td>\n",
       "      <td>Diesel</td>\n",
       "      <td>145</td>\n",
       "      <td>62.8</td>\n",
       "      <td>2.0</td>\n",
       "    </tr>\n",
       "    <tr>\n",
       "      <th>72</th>\n",
       "      <td>2 Series</td>\n",
       "      <td>2017</td>\n",
       "      <td>10900</td>\n",
       "      <td>Manual</td>\n",
       "      <td>62021</td>\n",
       "      <td>Diesel</td>\n",
       "      <td>145</td>\n",
       "      <td>65.7</td>\n",
       "      <td>2.0</td>\n",
       "    </tr>\n",
       "    <tr>\n",
       "      <th>8916</th>\n",
       "      <td>2 Series</td>\n",
       "      <td>2017</td>\n",
       "      <td>16350</td>\n",
       "      <td>Automatic</td>\n",
       "      <td>13750</td>\n",
       "      <td>Diesel</td>\n",
       "      <td>145</td>\n",
       "      <td>62.8</td>\n",
       "      <td>2.0</td>\n",
       "    </tr>\n",
       "    <tr>\n",
       "      <th>10059</th>\n",
       "      <td>X1</td>\n",
       "      <td>2017</td>\n",
       "      <td>19490</td>\n",
       "      <td>Automatic</td>\n",
       "      <td>27988</td>\n",
       "      <td>Diesel</td>\n",
       "      <td>145</td>\n",
       "      <td>57.6</td>\n",
       "      <td>2.0</td>\n",
       "    </tr>\n",
       "    <tr>\n",
       "      <th>3277</th>\n",
       "      <td>i3</td>\n",
       "      <td>2016</td>\n",
       "      <td>16482</td>\n",
       "      <td>Automatic</td>\n",
       "      <td>43695</td>\n",
       "      <td>Hybrid</td>\n",
       "      <td>0</td>\n",
       "      <td>470.8</td>\n",
       "      <td>0.0</td>\n",
       "    </tr>\n",
       "  </tbody>\n",
       "</table>\n",
       "</div>"
      ],
      "text/plain": [
       "           model  year  price transmission  mileage fuelType  tax    mpg  \\\n",
       "7801    5 Series  2019  30850    Automatic     6000   Diesel  145   62.8   \n",
       "72      2 Series  2017  10900       Manual    62021   Diesel  145   65.7   \n",
       "8916    2 Series  2017  16350    Automatic    13750   Diesel  145   62.8   \n",
       "10059         X1  2017  19490    Automatic    27988   Diesel  145   57.6   \n",
       "3277          i3  2016  16482    Automatic    43695   Hybrid    0  470.8   \n",
       "\n",
       "       engineSize  \n",
       "7801          2.0  \n",
       "72            2.0  \n",
       "8916          2.0  \n",
       "10059         2.0  \n",
       "3277          0.0  "
      ]
     },
     "execution_count": 156,
     "metadata": {},
     "output_type": "execute_result"
    }
   ],
   "source": [
    "simple_random_sampling = data.sample(frac=0.5, random_state=2024)\n",
    "simple_random_sampling.head(5)"
   ]
  },
  {
   "cell_type": "markdown",
   "id": "e8cd318a",
   "metadata": {},
   "source": [
    "# Stratified Random Sample"
   ]
  },
  {
   "cell_type": "code",
   "execution_count": 157,
   "id": "0f7c5684",
   "metadata": {},
   "outputs": [
    {
     "data": {
      "text/html": [
       "<div>\n",
       "<style scoped>\n",
       "    .dataframe tbody tr th:only-of-type {\n",
       "        vertical-align: middle;\n",
       "    }\n",
       "\n",
       "    .dataframe tbody tr th {\n",
       "        vertical-align: top;\n",
       "    }\n",
       "\n",
       "    .dataframe thead th {\n",
       "        text-align: right;\n",
       "    }\n",
       "</style>\n",
       "<table border=\"1\" class=\"dataframe\">\n",
       "  <thead>\n",
       "    <tr style=\"text-align: right;\">\n",
       "      <th></th>\n",
       "      <th>model</th>\n",
       "      <th>year</th>\n",
       "      <th>price</th>\n",
       "      <th>transmission</th>\n",
       "      <th>mileage</th>\n",
       "      <th>fuelType</th>\n",
       "      <th>tax</th>\n",
       "      <th>mpg</th>\n",
       "      <th>engineSize</th>\n",
       "    </tr>\n",
       "  </thead>\n",
       "  <tbody>\n",
       "    <tr>\n",
       "      <th>9413</th>\n",
       "      <td>1 Series</td>\n",
       "      <td>2015</td>\n",
       "      <td>13500</td>\n",
       "      <td>Automatic</td>\n",
       "      <td>82876</td>\n",
       "      <td>Petrol</td>\n",
       "      <td>235</td>\n",
       "      <td>37.7</td>\n",
       "      <td>3.0</td>\n",
       "    </tr>\n",
       "    <tr>\n",
       "      <th>10682</th>\n",
       "      <td>1 Series</td>\n",
       "      <td>2016</td>\n",
       "      <td>13450</td>\n",
       "      <td>Manual</td>\n",
       "      <td>33043</td>\n",
       "      <td>Diesel</td>\n",
       "      <td>30</td>\n",
       "      <td>62.8</td>\n",
       "      <td>2.0</td>\n",
       "    </tr>\n",
       "    <tr>\n",
       "      <th>8607</th>\n",
       "      <td>1 Series</td>\n",
       "      <td>2016</td>\n",
       "      <td>13300</td>\n",
       "      <td>Automatic</td>\n",
       "      <td>32404</td>\n",
       "      <td>Petrol</td>\n",
       "      <td>30</td>\n",
       "      <td>55.5</td>\n",
       "      <td>1.5</td>\n",
       "    </tr>\n",
       "    <tr>\n",
       "      <th>8897</th>\n",
       "      <td>1 Series</td>\n",
       "      <td>2014</td>\n",
       "      <td>10395</td>\n",
       "      <td>Manual</td>\n",
       "      <td>25000</td>\n",
       "      <td>Diesel</td>\n",
       "      <td>0</td>\n",
       "      <td>74.3</td>\n",
       "      <td>1.6</td>\n",
       "    </tr>\n",
       "    <tr>\n",
       "      <th>9922</th>\n",
       "      <td>1 Series</td>\n",
       "      <td>2013</td>\n",
       "      <td>15300</td>\n",
       "      <td>Manual</td>\n",
       "      <td>39872</td>\n",
       "      <td>Petrol</td>\n",
       "      <td>300</td>\n",
       "      <td>33.2</td>\n",
       "      <td>3.0</td>\n",
       "    </tr>\n",
       "  </tbody>\n",
       "</table>\n",
       "</div>"
      ],
      "text/plain": [
       "           model  year  price transmission  mileage fuelType  tax   mpg  \\\n",
       "9413    1 Series  2015  13500    Automatic    82876   Petrol  235  37.7   \n",
       "10682   1 Series  2016  13450       Manual    33043   Diesel   30  62.8   \n",
       "8607    1 Series  2016  13300    Automatic    32404   Petrol   30  55.5   \n",
       "8897    1 Series  2014  10395       Manual    25000   Diesel    0  74.3   \n",
       "9922    1 Series  2013  15300       Manual    39872   Petrol  300  33.2   \n",
       "\n",
       "       engineSize  \n",
       "9413          3.0  \n",
       "10682         2.0  \n",
       "8607          1.5  \n",
       "8897          1.6  \n",
       "9922          3.0  "
      ]
     },
     "execution_count": 157,
     "metadata": {},
     "output_type": "execute_result"
    }
   ],
   "source": [
    "stratified_random_sample = data.groupby('model').sample(frac=0.5, random_state=2024)\n",
    "stratified_random_sample.head(5)"
   ]
  },
  {
   "cell_type": "markdown",
   "id": "5ca352de",
   "metadata": {},
   "source": [
    "# Clustring"
   ]
  },
  {
   "cell_type": "code",
   "execution_count": 158,
   "id": "6c49670c",
   "metadata": {},
   "outputs": [
    {
     "data": {
      "text/html": [
       "<div>\n",
       "<style scoped>\n",
       "    .dataframe tbody tr th:only-of-type {\n",
       "        vertical-align: middle;\n",
       "    }\n",
       "\n",
       "    .dataframe tbody tr th {\n",
       "        vertical-align: top;\n",
       "    }\n",
       "\n",
       "    .dataframe thead th {\n",
       "        text-align: right;\n",
       "    }\n",
       "</style>\n",
       "<table border=\"1\" class=\"dataframe\">\n",
       "  <thead>\n",
       "    <tr style=\"text-align: right;\">\n",
       "      <th></th>\n",
       "      <th>model</th>\n",
       "      <th>year</th>\n",
       "      <th>price</th>\n",
       "      <th>transmission</th>\n",
       "      <th>mileage</th>\n",
       "      <th>fuelType</th>\n",
       "      <th>tax</th>\n",
       "      <th>mpg</th>\n",
       "      <th>engineSize</th>\n",
       "    </tr>\n",
       "  </thead>\n",
       "  <tbody>\n",
       "    <tr>\n",
       "      <th>4344</th>\n",
       "      <td>2 Series</td>\n",
       "      <td>2015</td>\n",
       "      <td>19140</td>\n",
       "      <td>Semi-Auto</td>\n",
       "      <td>12117</td>\n",
       "      <td>Petrol</td>\n",
       "      <td>260</td>\n",
       "      <td>35.8</td>\n",
       "      <td>3.0</td>\n",
       "    </tr>\n",
       "    <tr>\n",
       "      <th>440</th>\n",
       "      <td>2 Series</td>\n",
       "      <td>2016</td>\n",
       "      <td>16450</td>\n",
       "      <td>Semi-Auto</td>\n",
       "      <td>10250</td>\n",
       "      <td>Diesel</td>\n",
       "      <td>30</td>\n",
       "      <td>62.8</td>\n",
       "      <td>2.0</td>\n",
       "    </tr>\n",
       "    <tr>\n",
       "      <th>5527</th>\n",
       "      <td>2 Series</td>\n",
       "      <td>2019</td>\n",
       "      <td>22995</td>\n",
       "      <td>Manual</td>\n",
       "      <td>999</td>\n",
       "      <td>Petrol</td>\n",
       "      <td>145</td>\n",
       "      <td>42.2</td>\n",
       "      <td>1.5</td>\n",
       "    </tr>\n",
       "    <tr>\n",
       "      <th>600</th>\n",
       "      <td>2 Series</td>\n",
       "      <td>2016</td>\n",
       "      <td>15498</td>\n",
       "      <td>Semi-Auto</td>\n",
       "      <td>14313</td>\n",
       "      <td>Petrol</td>\n",
       "      <td>125</td>\n",
       "      <td>51.4</td>\n",
       "      <td>1.5</td>\n",
       "    </tr>\n",
       "    <tr>\n",
       "      <th>10170</th>\n",
       "      <td>2 Series</td>\n",
       "      <td>2017</td>\n",
       "      <td>14600</td>\n",
       "      <td>Automatic</td>\n",
       "      <td>24170</td>\n",
       "      <td>Petrol</td>\n",
       "      <td>145</td>\n",
       "      <td>53.3</td>\n",
       "      <td>1.5</td>\n",
       "    </tr>\n",
       "  </tbody>\n",
       "</table>\n",
       "</div>"
      ],
      "text/plain": [
       "           model  year  price transmission  mileage fuelType  tax   mpg  \\\n",
       "4344    2 Series  2015  19140    Semi-Auto    12117   Petrol  260  35.8   \n",
       "440     2 Series  2016  16450    Semi-Auto    10250   Diesel   30  62.8   \n",
       "5527    2 Series  2019  22995       Manual      999   Petrol  145  42.2   \n",
       "600     2 Series  2016  15498    Semi-Auto    14313   Petrol  125  51.4   \n",
       "10170   2 Series  2017  14600    Automatic    24170   Petrol  145  53.3   \n",
       "\n",
       "       engineSize  \n",
       "4344          3.0  \n",
       "440           2.0  \n",
       "5527          1.5  \n",
       "600           1.5  \n",
       "10170         1.5  "
      ]
     },
     "execution_count": 158,
     "metadata": {},
     "output_type": "execute_result"
    }
   ],
   "source": [
    "random.seed(2024)\n",
    "data['model'] = data['model'].astype('category')\n",
    "country_data = list(data['model'].unique())\n",
    "data_group = random.sample(country_data, k=18)\n",
    "data_clustering = data[data['model'].isin(data_group)]\n",
    "# data_clustering['model'] = data_clustering['model'].cat.remove_unused_categories()\n",
    "data_cluster_sample = data_clustering.groupby('model').sample(frac=0.5)\n",
    "data_cluster_sample.head(5)"
   ]
  },
  {
   "cell_type": "markdown",
   "id": "ce73609f",
   "metadata": {},
   "source": [
    "# Shaping "
   ]
  },
  {
   "cell_type": "code",
   "execution_count": 159,
   "id": "d09738f8",
   "metadata": {},
   "outputs": [
    {
     "data": {
      "text/plain": [
       "(3736, 9)"
      ]
     },
     "execution_count": 159,
     "metadata": {},
     "output_type": "execute_result"
    }
   ],
   "source": [
    "data_cluster_sample.shape"
   ]
  },
  {
   "cell_type": "code",
   "execution_count": 160,
   "id": "17975377",
   "metadata": {},
   "outputs": [
    {
     "data": {
      "text/plain": [
       "(5392, 9)"
      ]
     },
     "execution_count": 160,
     "metadata": {},
     "output_type": "execute_result"
    }
   ],
   "source": [
    "stratified_random_sample.shape"
   ]
  },
  {
   "cell_type": "code",
   "execution_count": 161,
   "id": "1337b978",
   "metadata": {},
   "outputs": [
    {
     "data": {
      "text/plain": [
       "(5390, 9)"
      ]
     },
     "execution_count": 161,
     "metadata": {},
     "output_type": "execute_result"
    }
   ],
   "source": [
    "simple_random_sampling.shape"
   ]
  },
  {
   "cell_type": "markdown",
   "id": "228fe999",
   "metadata": {},
   "source": [
    "# All types "
   ]
  },
  {
   "cell_type": "code",
   "execution_count": 177,
   "id": "e790f5c5",
   "metadata": {},
   "outputs": [
    {
     "data": {
      "text/html": [
       "<div>\n",
       "<style scoped>\n",
       "    .dataframe tbody tr th:only-of-type {\n",
       "        vertical-align: middle;\n",
       "    }\n",
       "\n",
       "    .dataframe tbody tr th {\n",
       "        vertical-align: top;\n",
       "    }\n",
       "\n",
       "    .dataframe thead th {\n",
       "        text-align: right;\n",
       "    }\n",
       "</style>\n",
       "<table border=\"1\" class=\"dataframe\">\n",
       "  <thead>\n",
       "    <tr style=\"text-align: right;\">\n",
       "      <th></th>\n",
       "      <th>transmission</th>\n",
       "      <th>price</th>\n",
       "    </tr>\n",
       "  </thead>\n",
       "  <tbody>\n",
       "    <tr>\n",
       "      <th>0</th>\n",
       "      <td>Automatic</td>\n",
       "      <td>22419.023969</td>\n",
       "    </tr>\n",
       "    <tr>\n",
       "      <th>1</th>\n",
       "      <td>Manual</td>\n",
       "      <td>14637.451128</td>\n",
       "    </tr>\n",
       "    <tr>\n",
       "      <th>2</th>\n",
       "      <td>Semi-Auto</td>\n",
       "      <td>27359.747964</td>\n",
       "    </tr>\n",
       "  </tbody>\n",
       "</table>\n",
       "</div>"
      ],
      "text/plain": [
       "  transmission         price\n",
       "0    Automatic  22419.023969\n",
       "1       Manual  14637.451128\n",
       "2    Semi-Auto  27359.747964"
      ]
     },
     "execution_count": 177,
     "metadata": {},
     "output_type": "execute_result"
    }
   ],
   "source": [
    "d = data.groupby('transmission')['price'].mean()\n",
    "d.reset_index()"
   ]
  },
  {
   "cell_type": "code",
   "execution_count": 178,
   "id": "8a960cf0",
   "metadata": {},
   "outputs": [
    {
     "data": {
      "text/html": [
       "<div>\n",
       "<style scoped>\n",
       "    .dataframe tbody tr th:only-of-type {\n",
       "        vertical-align: middle;\n",
       "    }\n",
       "\n",
       "    .dataframe tbody tr th {\n",
       "        vertical-align: top;\n",
       "    }\n",
       "\n",
       "    .dataframe thead th {\n",
       "        text-align: right;\n",
       "    }\n",
       "</style>\n",
       "<table border=\"1\" class=\"dataframe\">\n",
       "  <thead>\n",
       "    <tr style=\"text-align: right;\">\n",
       "      <th></th>\n",
       "      <th>transmission</th>\n",
       "      <th>price</th>\n",
       "    </tr>\n",
       "  </thead>\n",
       "  <tbody>\n",
       "    <tr>\n",
       "      <th>0</th>\n",
       "      <td>Automatic</td>\n",
       "      <td>22566.312152</td>\n",
       "    </tr>\n",
       "    <tr>\n",
       "      <th>1</th>\n",
       "      <td>Manual</td>\n",
       "      <td>14549.036683</td>\n",
       "    </tr>\n",
       "    <tr>\n",
       "      <th>2</th>\n",
       "      <td>Semi-Auto</td>\n",
       "      <td>27580.716482</td>\n",
       "    </tr>\n",
       "  </tbody>\n",
       "</table>\n",
       "</div>"
      ],
      "text/plain": [
       "  transmission         price\n",
       "0    Automatic  22566.312152\n",
       "1       Manual  14549.036683\n",
       "2    Semi-Auto  27580.716482"
      ]
     },
     "execution_count": 178,
     "metadata": {},
     "output_type": "execute_result"
    }
   ],
   "source": [
    "srs = simple_random_sampling.groupby('transmission')['price'].mean()\n",
    "srs.reset_index()"
   ]
  },
  {
   "cell_type": "code",
   "execution_count": 179,
   "id": "cdf01490",
   "metadata": {},
   "outputs": [
    {
     "data": {
      "text/html": [
       "<div>\n",
       "<style scoped>\n",
       "    .dataframe tbody tr th:only-of-type {\n",
       "        vertical-align: middle;\n",
       "    }\n",
       "\n",
       "    .dataframe tbody tr th {\n",
       "        vertical-align: top;\n",
       "    }\n",
       "\n",
       "    .dataframe thead th {\n",
       "        text-align: right;\n",
       "    }\n",
       "</style>\n",
       "<table border=\"1\" class=\"dataframe\">\n",
       "  <thead>\n",
       "    <tr style=\"text-align: right;\">\n",
       "      <th></th>\n",
       "      <th>transmission</th>\n",
       "      <th>price</th>\n",
       "    </tr>\n",
       "  </thead>\n",
       "  <tbody>\n",
       "    <tr>\n",
       "      <th>0</th>\n",
       "      <td>Automatic</td>\n",
       "      <td>22432.542363</td>\n",
       "    </tr>\n",
       "    <tr>\n",
       "      <th>1</th>\n",
       "      <td>Manual</td>\n",
       "      <td>14503.561151</td>\n",
       "    </tr>\n",
       "    <tr>\n",
       "      <th>2</th>\n",
       "      <td>Semi-Auto</td>\n",
       "      <td>27197.408607</td>\n",
       "    </tr>\n",
       "  </tbody>\n",
       "</table>\n",
       "</div>"
      ],
      "text/plain": [
       "  transmission         price\n",
       "0    Automatic  22432.542363\n",
       "1       Manual  14503.561151\n",
       "2    Semi-Auto  27197.408607"
      ]
     },
     "execution_count": 179,
     "metadata": {},
     "output_type": "execute_result"
    }
   ],
   "source": [
    "strs = stratified_random_sample.groupby('transmission')['price'].mean()\n",
    "strs.reset_index()"
   ]
  },
  {
   "cell_type": "code",
   "execution_count": 180,
   "id": "748e8c4a",
   "metadata": {},
   "outputs": [
    {
     "data": {
      "text/html": [
       "<div>\n",
       "<style scoped>\n",
       "    .dataframe tbody tr th:only-of-type {\n",
       "        vertical-align: middle;\n",
       "    }\n",
       "\n",
       "    .dataframe tbody tr th {\n",
       "        vertical-align: top;\n",
       "    }\n",
       "\n",
       "    .dataframe thead th {\n",
       "        text-align: right;\n",
       "    }\n",
       "</style>\n",
       "<table border=\"1\" class=\"dataframe\">\n",
       "  <thead>\n",
       "    <tr style=\"text-align: right;\">\n",
       "      <th></th>\n",
       "      <th>transmission</th>\n",
       "      <th>price</th>\n",
       "    </tr>\n",
       "  </thead>\n",
       "  <tbody>\n",
       "    <tr>\n",
       "      <th>0</th>\n",
       "      <td>Automatic</td>\n",
       "      <td>23607.187874</td>\n",
       "    </tr>\n",
       "    <tr>\n",
       "      <th>1</th>\n",
       "      <td>Manual</td>\n",
       "      <td>15737.355588</td>\n",
       "    </tr>\n",
       "    <tr>\n",
       "      <th>2</th>\n",
       "      <td>Semi-Auto</td>\n",
       "      <td>28347.032729</td>\n",
       "    </tr>\n",
       "  </tbody>\n",
       "</table>\n",
       "</div>"
      ],
      "text/plain": [
       "  transmission         price\n",
       "0    Automatic  23607.187874\n",
       "1       Manual  15737.355588\n",
       "2    Semi-Auto  28347.032729"
      ]
     },
     "execution_count": 180,
     "metadata": {},
     "output_type": "execute_result"
    }
   ],
   "source": [
    "cs = data_cluster_sample.groupby('transmission')['price'].mean()\n",
    "cs.reset_index()"
   ]
  }
 ],
 "metadata": {
  "kernelspec": {
   "display_name": "Python 3 (ipykernel)",
   "language": "python",
   "name": "python3"
  },
  "language_info": {
   "codemirror_mode": {
    "name": "ipython",
    "version": 3
   },
   "file_extension": ".py",
   "mimetype": "text/x-python",
   "name": "python",
   "nbconvert_exporter": "python",
   "pygments_lexer": "ipython3",
   "version": "3.11.5"
  }
 },
 "nbformat": 4,
 "nbformat_minor": 5
}
